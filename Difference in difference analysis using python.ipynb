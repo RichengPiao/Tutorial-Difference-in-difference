{
 "cells": [
  {
   "cell_type": "code",
   "execution_count": 1,
   "metadata": {},
   "outputs": [],
   "source": [
    "# Difference in difference analysis using python\n",
    "# Topic: Did elimination of copayment increase visits to the physician?\n",
    "# Copayment for visting a physical for 16 years and yonger eliminated in Norway 2010"
   ]
  },
  {
   "cell_type": "code",
   "execution_count": 12,
   "metadata": {},
   "outputs": [
    {
     "data": {
      "text/html": [
       "<div>\n",
       "<style scoped>\n",
       "    .dataframe tbody tr th:only-of-type {\n",
       "        vertical-align: middle;\n",
       "    }\n",
       "\n",
       "    .dataframe tbody tr th {\n",
       "        vertical-align: top;\n",
       "    }\n",
       "\n",
       "    .dataframe thead th {\n",
       "        text-align: right;\n",
       "    }\n",
       "</style>\n",
       "<table border=\"1\" class=\"dataframe\">\n",
       "  <thead>\n",
       "    <tr style=\"text-align: right;\">\n",
       "      <th></th>\n",
       "      <th>CO_OWNED</th>\n",
       "      <th>SOUTHJ</th>\n",
       "      <th>CENTRALJ</th>\n",
       "      <th>PA1</th>\n",
       "      <th>PA2</th>\n",
       "      <th>DEMP</th>\n",
       "      <th>nj</th>\n",
       "      <th>bk</th>\n",
       "      <th>kfc</th>\n",
       "      <th>roys</th>\n",
       "      <th>wendys</th>\n",
       "      <th>d</th>\n",
       "      <th>d_nj</th>\n",
       "      <th>fte</th>\n",
       "    </tr>\n",
       "  </thead>\n",
       "  <tbody>\n",
       "    <tr>\n",
       "      <th>0</th>\n",
       "      <td>0</td>\n",
       "      <td>0</td>\n",
       "      <td>1</td>\n",
       "      <td>0</td>\n",
       "      <td>0</td>\n",
       "      <td>12.00</td>\n",
       "      <td>1</td>\n",
       "      <td>1</td>\n",
       "      <td>0</td>\n",
       "      <td>0</td>\n",
       "      <td>0</td>\n",
       "      <td>0</td>\n",
       "      <td>0</td>\n",
       "      <td>15.00</td>\n",
       "    </tr>\n",
       "    <tr>\n",
       "      <th>1</th>\n",
       "      <td>0</td>\n",
       "      <td>0</td>\n",
       "      <td>1</td>\n",
       "      <td>0</td>\n",
       "      <td>0</td>\n",
       "      <td>6.50</td>\n",
       "      <td>1</td>\n",
       "      <td>1</td>\n",
       "      <td>0</td>\n",
       "      <td>0</td>\n",
       "      <td>0</td>\n",
       "      <td>0</td>\n",
       "      <td>0</td>\n",
       "      <td>15.00</td>\n",
       "    </tr>\n",
       "    <tr>\n",
       "      <th>2</th>\n",
       "      <td>0</td>\n",
       "      <td>0</td>\n",
       "      <td>1</td>\n",
       "      <td>0</td>\n",
       "      <td>0</td>\n",
       "      <td>-1.00</td>\n",
       "      <td>1</td>\n",
       "      <td>0</td>\n",
       "      <td>0</td>\n",
       "      <td>1</td>\n",
       "      <td>0</td>\n",
       "      <td>0</td>\n",
       "      <td>0</td>\n",
       "      <td>24.00</td>\n",
       "    </tr>\n",
       "    <tr>\n",
       "      <th>3</th>\n",
       "      <td>1</td>\n",
       "      <td>0</td>\n",
       "      <td>0</td>\n",
       "      <td>0</td>\n",
       "      <td>0</td>\n",
       "      <td>2.25</td>\n",
       "      <td>1</td>\n",
       "      <td>0</td>\n",
       "      <td>0</td>\n",
       "      <td>1</td>\n",
       "      <td>0</td>\n",
       "      <td>0</td>\n",
       "      <td>0</td>\n",
       "      <td>19.25</td>\n",
       "    </tr>\n",
       "    <tr>\n",
       "      <th>4</th>\n",
       "      <td>0</td>\n",
       "      <td>0</td>\n",
       "      <td>0</td>\n",
       "      <td>0</td>\n",
       "      <td>0</td>\n",
       "      <td>13.00</td>\n",
       "      <td>1</td>\n",
       "      <td>1</td>\n",
       "      <td>0</td>\n",
       "      <td>0</td>\n",
       "      <td>0</td>\n",
       "      <td>0</td>\n",
       "      <td>0</td>\n",
       "      <td>21.50</td>\n",
       "    </tr>\n",
       "  </tbody>\n",
       "</table>\n",
       "</div>"
      ],
      "text/plain": [
       "   CO_OWNED  SOUTHJ  CENTRALJ  PA1  PA2   DEMP  nj  bk  kfc  roys  wendys  d  \\\n",
       "0         0       0         1    0    0  12.00   1   1    0     0       0  0   \n",
       "1         0       0         1    0    0   6.50   1   1    0     0       0  0   \n",
       "2         0       0         1    0    0  -1.00   1   0    0     1       0  0   \n",
       "3         1       0         0    0    0   2.25   1   0    0     1       0  0   \n",
       "4         0       0         0    0    0  13.00   1   1    0     0       0  0   \n",
       "\n",
       "   d_nj    fte  \n",
       "0     0  15.00  \n",
       "1     0  15.00  \n",
       "2     0  24.00  \n",
       "3     0  19.25  \n",
       "4     0  21.50  "
      ]
     },
     "execution_count": 12,
     "metadata": {},
     "output_type": "execute_result"
    }
   ],
   "source": [
    "\n",
    "import pandas as pd\n",
    "from pandas_profiling import ProfileReport\n",
    "import statsmodels.formula.api as smf \n",
    "import statsmodels.api as sm  \n",
    "import seaborn as sns\n",
    "import matplotlib.pyplot as plt \n",
    "df = pd.read_csv('data/njmin3.csv')\n",
    "df.head()"
   ]
  },
  {
   "cell_type": "code",
   "execution_count": 13,
   "metadata": {},
   "outputs": [
    {
     "name": "stdout",
     "output_type": "stream",
     "text": [
      "                            OLS Regression Results                            \n",
      "==============================================================================\n",
      "Dep. Variable:                    fte   R-squared:                       0.219\n",
      "Model:                            OLS   Adj. R-squared:                  0.211\n",
      "Method:                 Least Squares   F-statistic:                     27.47\n",
      "Date:                Mon, 06 Dec 2021   Prob (F-statistic):           9.44e-38\n",
      "Time:                        19:32:36   Log-Likelihood:                -2809.2\n",
      "No. Observations:                 794   AIC:                             5636.\n",
      "Df Residuals:                     785   BIC:                             5679.\n",
      "Df Model:                           8                                         \n",
      "Covariance Type:            nonrobust                                         \n",
      "==============================================================================\n",
      "                 coef    std err          t      P>|t|      [0.025      0.975]\n",
      "------------------------------------------------------------------------------\n",
      "Intercept     24.3532      0.601     40.549      0.000      23.174      25.532\n",
      "d_nj           0.6401      0.630      1.016      0.310      -0.597       1.877\n",
      "kfc          -10.0556      0.845    -11.899      0.000     -11.714      -8.397\n",
      "roys          -1.7036      0.858     -1.985      0.048      -3.389      -0.019\n",
      "wendys        -1.0349      0.921     -1.124      0.261      -2.842       0.772\n",
      "CO_OWNED      -0.7064      0.719     -0.983      0.326      -2.117       0.704\n",
      "SOUTHJ        -3.6672      0.755     -4.857      0.000      -5.149      -2.185\n",
      "CENTRALJ       0.0452      0.878      0.052      0.959      -1.677       1.768\n",
      "PA1            0.7740      1.130      0.685      0.494      -1.444       2.992\n",
      "==============================================================================\n",
      "Omnibus:                      296.588   Durbin-Watson:                   2.041\n",
      "Prob(Omnibus):                  0.000   Jarque-Bera (JB):             1861.874\n",
      "Skew:                           1.553   Prob(JB):                         0.00\n",
      "Kurtosis:                       9.828   Cond. No.                         5.17\n",
      "==============================================================================\n",
      "\n",
      "Notes:\n",
      "[1] Standard Errors assume that the covariance matrix of the errors is correctly specified.\n"
     ]
    }
   ],
   "source": [
    "model = smf.ols(formula = \"fte ~ d_nj + kfc + roys + wendys + CO_OWNED + SOUTHJ + CENTRALJ + PA1\", data = df).fit()\n",
    "print(model.summary())"
   ]
  },
  {
   "cell_type": "code",
   "execution_count": 14,
   "metadata": {},
   "outputs": [
    {
     "data": {
      "text/plain": [
       "[20.439408099688475,\n",
       " 21.02742946708464,\n",
       " 23.33116883116883,\n",
       " 21.165584415584416,\n",
       " 20.439408099688475,\n",
       " 17.547647368208118]"
      ]
     },
     "execution_count": 14,
     "metadata": {},
     "output_type": "execute_result"
    }
   ],
   "source": [
    "\n",
    "# NJ Before and after\n",
    "NJ_before = df.loc[(df['nj']==1) & (df['d']!=1),'fte'].mean()\n",
    "NJ_after  = df.loc[(df['nj']==1) & (df['d']==1),'fte'].mean()\n",
    "\n",
    "# PA Before and after\n",
    "PA_before = df.loc[(df['nj']!=1) & (df['d']!=1),'fte'].mean()\n",
    "PA_after  = df.loc[(df['nj']!=1) & (df['d']==1),'fte'].mean()\n",
    "\n",
    "# NJ counterfactual (if no treatment)\n",
    "NJ_counterfactual = NJ_before + ( NJ_before - PA_before )\n",
    "\n",
    "[NJ_before, NJ_after,\n",
    " PA_before,PA_after,\n",
    " NJ_before, NJ_counterfactual]"
   ]
  },
  {
   "cell_type": "code",
   "execution_count": 18,
   "metadata": {},
   "outputs": [
    {
     "data": {
      "text/plain": [
       "Text(0.5, 1.0, 'Difference-in-difference: Before and After')"
      ]
     },
     "execution_count": 18,
     "metadata": {},
     "output_type": "execute_result"
    }
   ],
   "source": [
    "plt.figure(num=None, figsize=(4, 3), dpi=80, facecolor='w', edgecolor='k')\n",
    "fig, ax = plt.subplots()\n",
    "lineNJ, = ax.plot(['0', '1'], [NJ_before, NJ_after],color='blue',label='NJ before and after')\n",
    "linePA, = ax.plot(['0', '1'], [PA_before, PA_after],color = 'red',label = 'PA before and after')\n",
    "lineNJ0, = ax.plot(['0', '1'], [NJ_before, NJ_counterfactual],color = 'blue',linestyle='dashed',label='NJ counterfactual')\n",
    "ax.legend()\n",
    "plt.ylim(15, 28)  \n",
    "plt.title(\"Difference-in-difference: Before and After\", fontsize=\"14\")"
   ]
  },
  {
   "cell_type": "code",
   "execution_count": null,
   "metadata": {},
   "outputs": [],
   "source": []
  }
 ],
 "metadata": {
  "interpreter": {
   "hash": "607f3383a401117d4368d2a3f9ae06e441e7aaeb9e62d8b19b580cf246dd6567"
  },
  "kernelspec": {
   "display_name": "Python 3.7.3 64-bit",
   "language": "python",
   "name": "python3"
  },
  "language_info": {
   "codemirror_mode": {
    "name": "ipython",
    "version": 3
   },
   "file_extension": ".py",
   "mimetype": "text/x-python",
   "name": "python",
   "nbconvert_exporter": "python",
   "pygments_lexer": "ipython3",
   "version": "3.7.3"
  },
  "orig_nbformat": 4
 },
 "nbformat": 4,
 "nbformat_minor": 2
}
